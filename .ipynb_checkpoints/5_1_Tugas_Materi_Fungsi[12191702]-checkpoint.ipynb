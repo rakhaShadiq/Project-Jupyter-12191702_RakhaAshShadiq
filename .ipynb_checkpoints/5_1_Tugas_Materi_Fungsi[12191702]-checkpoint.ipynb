{
 "cells": [
  {
   "cell_type": "code",
   "execution_count": null,
   "metadata": {
    "id": "22s8pI85u5_J"
   },
   "outputs": [],
   "source": []
  },
  {
   "cell_type": "markdown",
   "metadata": {
    "id": "fPMZcyuxvINI"
   },
   "source": [
    "**Soal 5.1.1**\n",
    "\n",
    "Berikut ini adalah potongan kode implementasi fungsi *luas_limas_segi_empat()*\n",
    "``` javascript\n",
    "print(\"Luas : %d\" % luas_limas_segi_empat(Alas_limas, Tinggi_limas))​\n",
    "```\n",
    "Lengkapilah kode tersebut dengan merancang sebuah fungsi agar bisa diimplementasikan sesuai dengan statment potongan kode diatas.\n",
    "dengan mengetikan pada code cell di bawah ini pada editor."
   ]
  },
  {
   "cell_type": "code",
   "execution_count": 21,
   "metadata": {
    "id": "WMeeaGjuxQfL"
   },
   "outputs": [
    {
     "name": "stdout",
     "output_type": "stream",
     "text": [
      "Masukkan sisi alas : 4\n",
      "Masukkan tinggi limas : 7\n",
      "Masukkan sisi selimut: 4\n"
     ]
    },
    {
     "data": {
      "text/plain": [
       "72.0"
      ]
     },
     "execution_count": 21,
     "metadata": {},
     "output_type": "execute_result"
    }
   ],
   "source": [
    "# Soal 5.1.1\n",
    "\n",
    "def luas_limas_segi_empat(alas_limas, tinggi_limas):\n",
    "    #luas limas =  luas alas limas + luas selimut\n",
    "    alas_limas= sisi*sisi\n",
    "    luas = alas_limas +4 * 1/2* s * tinggi_limas\n",
    "    \n",
    "    return luas\n",
    "\n",
    "sisi= int(input(\"Masukkan sisi alas : \"))\n",
    "tinggi_limas = int(input(\"Masukkan tinggi limas : \"))\n",
    "s = int(input(\"Masukkan sisi selimut: \"))\n",
    "luas_limas_segi_empat(alas_limas,tinggi_limas)"
   ]
  },
  {
   "cell_type": "code",
   "execution_count": null,
   "metadata": {},
   "outputs": [],
   "source": []
  },
  {
   "cell_type": "code",
   "execution_count": null,
   "metadata": {},
   "outputs": [],
   "source": []
  }
 ],
 "metadata": {
  "colab": {
   "collapsed_sections": [],
   "name": "5.1_Tugas_Materi_Fungsi.ipynb",
   "provenance": []
  },
  "kernelspec": {
   "display_name": "Python 3",
   "language": "python",
   "name": "python3"
  },
  "language_info": {
   "codemirror_mode": {
    "name": "ipython",
    "version": 3
   },
   "file_extension": ".py",
   "mimetype": "text/x-python",
   "name": "python",
   "nbconvert_exporter": "python",
   "pygments_lexer": "ipython3",
   "version": "3.8.3"
  }
 },
 "nbformat": 4,
 "nbformat_minor": 1
}
