{
 "cells": [
  {
   "cell_type": "code",
   "execution_count": null,
   "metadata": {
    "id": "fkV8YRAQlm-C"
   },
   "outputs": [],
   "source": []
  },
  {
   "cell_type": "markdown",
   "metadata": {
    "id": "lnkJ-zBHl3jp"
   },
   "source": [
    "## Access Element\n",
    "Keunikan lain dari looping dengan python adalah selain bahasa yang mudah dimengerti dalam looping, kita juga bisa mengakses elemen yang terdapat pada sebuah list. Berikut ini contohnya :\n",
    "``` javascript\n",
    "#Tugas 3.2.1\n",
    "count=[1,2,3,4,5] #elemen list\n",
    "\n",
    "for number in count: #looping untuk menampilkan semua elemen pada count\n",
    "    print(\"Ini adalah element count : \", number) #menampilkan elemen list pada count\n",
    "```\n",
    "Implekementasikan kode diatas, ketikan pada code cell di bawah ini, berikan penjelasan terkait kode diatas"
   ]
  },
  {
   "cell_type": "code",
   "execution_count": 1,
   "metadata": {
    "id": "xYjQqqNLm-dB"
   },
   "outputs": [
    {
     "name": "stdout",
     "output_type": "stream",
     "text": [
      "Ini adalah elemen count:  1\n",
      "Ini adalah elemen count:  2\n",
      "Ini adalah elemen count:  3\n",
      "Ini adalah elemen count:  4\n",
      "Ini adalah elemen count:  5\n"
     ]
    }
   ],
   "source": [
    "# Jawaban Tugas 3.2.1\n",
    "count= [1,2,3,4,5] #elemen list\n",
    "for number in count:\n",
    "    print(\"Ini adalah elemen count: \",number)\n",
    "    "
   ]
  },
  {
   "cell_type": "markdown",
   "metadata": {
    "id": "figDWKAcnZRA"
   },
   "source": [
    "# Tugas Praktek 3.2.2\n",
    "1. Buatlah sebuah program yang bisa mengeluarkan angka 1 sampai 10.\n",
    "1. Buatlah sebuah program yang bisa mengeluarkan angka -20 sampai -50.\n",
    "3. Tampilan akan menunjukan \"Angka ganjil 1\" untuk angka ganjil dan \"Angka genap 2\" untuk angka genap. (Menggunakan looping for)\n",
    "\n",
    "**Note:** Kode dasar sudah disertakan, Anda cukup mengganti tanda # dengan nilai-nilai yang sesuai."
   ]
  },
  {
   "cell_type": "code",
   "execution_count": 3,
   "metadata": {
    "id": "MElhruOTntzZ"
   },
   "outputs": [
    {
     "name": "stdout",
     "output_type": "stream",
     "text": [
      "1\n",
      "2\n",
      "3\n",
      "4\n",
      "5\n",
      "6\n",
      "7\n",
      "8\n",
      "9\n",
      "10\n"
     ]
    }
   ],
   "source": [
    "#Jawaban Tugas 3.2.1.1\n",
    "for i in range(1, 11):\n",
    "    print(i)"
   ]
  },
  {
   "cell_type": "code",
   "execution_count": 25,
   "metadata": {
    "id": "NFtMjrQznuF2"
   },
   "outputs": [
    {
     "name": "stdout",
     "output_type": "stream",
     "text": [
      "angka -20\n",
      "angka -21\n",
      "angka -22\n",
      "angka -23\n",
      "angka -24\n",
      "angka -25\n",
      "angka -26\n",
      "angka -27\n",
      "angka -28\n",
      "angka -29\n",
      "angka -30\n",
      "angka -31\n",
      "angka -32\n",
      "angka -33\n",
      "angka -34\n",
      "angka -35\n",
      "angka -36\n",
      "angka -37\n",
      "angka -38\n",
      "angka -39\n",
      "angka -40\n",
      "angka -41\n",
      "angka -42\n",
      "angka -43\n",
      "angka -44\n",
      "angka -45\n",
      "angka -46\n",
      "angka -47\n",
      "angka -48\n",
      "angka -49\n",
      "angka -50\n"
     ]
    }
   ],
   "source": [
    "#Jawaban Tugas 3.2.1.2\n",
    "i= -20\n",
    "while(i>=-50):\n",
    "    print (\"angka\",i)\n",
    "    i=i-1"
   ]
  },
  {
   "cell_type": "code",
   "execution_count": 33,
   "metadata": {
    "id": "xpGigMPBpBy7"
   },
   "outputs": [
    {
     "name": "stdout",
     "output_type": "stream",
     "text": [
      "0 adalah bilangan genap\n",
      "1 adalah bilangan ganjil\n",
      "2 adalah bilangan genap\n",
      "3 adalah bilangan ganjil\n",
      "4 adalah bilangan genap\n",
      "5 adalah bilangan ganjil\n",
      "6 adalah bilangan genap\n",
      "7 adalah bilangan ganjil\n",
      "8 adalah bilangan genap\n",
      "9 adalah bilangan ganjil\n",
      "10 adalah bilangan genap\n",
      "11 adalah bilangan ganjil\n",
      "12 adalah bilangan genap\n",
      "13 adalah bilangan ganjil\n",
      "14 adalah bilangan genap\n",
      "15 adalah bilangan ganjil\n",
      "16 adalah bilangan genap\n",
      "17 adalah bilangan ganjil\n",
      "18 adalah bilangan genap\n",
      "19 adalah bilangan ganjil\n"
     ]
    }
   ],
   "source": [
    "#Jawaban Tugas 3.2.1.3\n",
    "for i in range(20):\n",
    "    if (i%2==0):\n",
    "        print(i, \"adalah bilangan genap\")\n",
    "    else:\n",
    "        print(i, \"adalah bilangan ganjil\")"
   ]
  },
  {
   "cell_type": "code",
   "execution_count": null,
   "metadata": {},
   "outputs": [],
   "source": []
  },
  {
   "cell_type": "code",
   "execution_count": null,
   "metadata": {},
   "outputs": [],
   "source": []
  }
 ],
 "metadata": {
  "colab": {
   "collapsed_sections": [],
   "name": "3.2_Tugas_Perulangan.ipynb",
   "provenance": []
  },
  "kernelspec": {
   "display_name": "Python 3",
   "language": "python",
   "name": "python3"
  },
  "language_info": {
   "codemirror_mode": {
    "name": "ipython",
    "version": 3
   },
   "file_extension": ".py",
   "mimetype": "text/x-python",
   "name": "python",
   "nbconvert_exporter": "python",
   "pygments_lexer": "ipython3",
   "version": "3.8.3"
  }
 },
 "nbformat": 4,
 "nbformat_minor": 1
}
