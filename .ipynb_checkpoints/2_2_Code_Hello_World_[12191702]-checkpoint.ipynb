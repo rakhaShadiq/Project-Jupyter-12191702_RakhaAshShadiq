{
 "cells": [
  {
   "cell_type": "code",
   "execution_count": 5,
   "metadata": {
    "id": "QChNmnXf_-pE"
   },
   "outputs": [
    {
     "name": "stdout",
     "output_type": "stream",
     "text": [
      "Hello World\n",
      "6\n",
      "25\n",
      "2023 Aku kaya mulia\n",
      "Rakha Ash Shadiq\n"
     ]
    }
   ],
   "source": [
    "print(\"Hello World\")\n",
    "print(5+1)\n",
    "print(10*2+5)\n",
    "print(\"2023 Aku kaya mulia\")\n",
    "print(\"Rakha Ash Shadiq\")"
   ]
  },
  {
   "cell_type": "markdown",
   "metadata": {
    "id": "CQqHfxdyArzJ"
   },
   "source": [
    "##Code Hello World\n",
    "Struktur code pada Python relatif sangat sederhana dan tidak terlalu rumit seperti pada Java ataupun C. Selain karena memang mudah dibaca, python juga termasuk pada high level programming language. Sebagai contoh, cobalah ketik coding pada Code Editor dengan perintah berikut untuk mengeluarkan kata-kata yang diperintahkan. Ekskusilah perintah dari kode dibawah ini."
   ]
  },
  {
   "cell_type": "code",
   "execution_count": null,
   "metadata": {
    "id": "oBXKvs3qA2Xb"
   },
   "outputs": [],
   "source": [
    "print (\"Hello World\")"
   ]
  },
  {
   "cell_type": "markdown",
   "metadata": {
    "id": "8yPh4FQWA_DU"
   },
   "source": [
    "Coba lanjutkan code tersebut pada baris selanjutnya dengan menggunakan kode ini :"
   ]
  },
  {
   "cell_type": "code",
   "execution_count": null,
   "metadata": {
    "id": "Yy5gqIzRBApb"
   },
   "outputs": [],
   "source": [
    "print (\"Hello World\")\n",
    "print(5+1)"
   ]
  },
  {
   "cell_type": "markdown",
   "metadata": {
    "id": "PQsFFoqjBJm0"
   },
   "source": [
    "***Note : setiap print akan mencetak baris baru.***\n",
    "\n",
    "Memang terlihat sangat sederhana jika hanya untuk kasus sederhana yang kita pelajari pada section kali ini. Namun, python tidak sesederhana itu. Biasanya kita juga menggunakan import library khusus jika sudah menyangkut masalah yang lebih kompleks. Materi berikutnya mungkin akan menjelaskan lebih lanjut.\n",
    "\n",
    " \n",
    "\n",
    "**Tugas Praktek 3.1**  \n",
    "1. Tampilkan hasil perhitungan (10*2+5) pada baris pertama."
   ]
  },
  {
   "cell_type": "code",
   "execution_count": null,
   "metadata": {
    "id": "UVE42BSRq-Ac"
   },
   "outputs": [],
   "source": [
    "# Jawab Tugas Praktek 3.1 Nomor 1\n",
    "25"
   ]
  },
  {
   "cell_type": "markdown",
   "metadata": {
    "id": "KmVhSyrQq_S6"
   },
   "source": [
    "2. tampilkan teks \"2023 Aku kaya mulia\" pada baris kedua."
   ]
  },
  {
   "cell_type": "code",
   "execution_count": null,
   "metadata": {
    "id": "Wko-4QrwsBgj"
   },
   "outputs": [],
   "source": [
    "# Jawab Tugas Praktek 3.1 Nomor 2\n",
    "2023 Aku kaya mulia"
   ]
  },
  {
   "cell_type": "markdown",
   "metadata": {
    "id": "z5MM1FEBrswd"
   },
   "source": [
    "3. Tampilkan teks Nama anda"
   ]
  },
  {
   "cell_type": "code",
   "execution_count": null,
   "metadata": {
    "id": "8dylS54Rq_1D"
   },
   "outputs": [],
   "source": [
    "# Jawab Tugas Praktek 3.1 Nomor 3\n",
    "Rakha Ash Shadiq"
   ]
  }
 ],
 "metadata": {
  "colab": {
   "authorship_tag": "ABX9TyPYvbvkqJPW8AGc6032N11a",
   "collapsed_sections": [],
   "name": "2_2_Code_Hello_World.ipynb",
   "provenance": []
  },
  "kernelspec": {
   "display_name": "Python 3",
   "language": "python",
   "name": "python3"
  },
  "language_info": {
   "codemirror_mode": {
    "name": "ipython",
    "version": 3
   },
   "file_extension": ".py",
   "mimetype": "text/x-python",
   "name": "python",
   "nbconvert_exporter": "python",
   "pygments_lexer": "ipython3",
   "version": "3.8.3"
  }
 },
 "nbformat": 4,
 "nbformat_minor": 1
}
