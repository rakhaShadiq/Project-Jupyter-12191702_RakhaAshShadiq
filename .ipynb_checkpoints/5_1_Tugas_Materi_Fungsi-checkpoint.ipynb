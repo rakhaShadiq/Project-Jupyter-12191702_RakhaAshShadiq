{
 "cells": [
  {
   "cell_type": "code",
   "execution_count": null,
   "metadata": {
    "id": "22s8pI85u5_J"
   },
   "outputs": [],
   "source": []
  },
  {
   "cell_type": "markdown",
   "metadata": {
    "id": "fPMZcyuxvINI"
   },
   "source": [
    "**Soal 5.1.1**\n",
    "\n",
    "Berikut ini adalah potongan kode implementasi fungsi *luas_limas_segi_empat()*\n",
    "``` javascript\n",
    "print(\"Luas : %d\" % luas_limas_segi_empat(Alas_limas, Tinggi_limas))​\n",
    "```\n",
    "Lengkapilah kode tersebut dengan merancang sebuah fungsi agar bisa diimplementasikan sesuai dengan statment potongan kode diatas.\n",
    "dengan mengetikan pada code cell di bawah ini pada editor."
   ]
  },
  {
   "cell_type": "code",
   "execution_count": 12,
   "metadata": {
    "id": "WMeeaGjuxQfL"
   },
   "outputs": [],
   "source": [
    "# Soal 4.1.1\n",
    "def luas_limas_segi_empat(luas_alas, luas_selimut):\n",
    "    luas_limas= luas_alas+luas_selimut\n",
    "    luas_alas= sisi*sisi\n",
    "    luas_selimut= 4*1/2*s*t\n",
    "    \n",
    "    return luas_limas\n",
    "    \n",
    "    luas_alas= int(input(\"Masukkan panjang alas : \"))\n",
    "    luas_selimut =int(input(\"Masukkan panjang alas selimut : \"))\n",
    "    luas_limas_segi_empat(luas_alas, luas_selimut)\n",
    "    \n",
    "    d = luas_limas_segi_empat(luas_alas, luas_selimut)\n",
    "    print (d)"
   ]
  },
  {
   "cell_type": "code",
   "execution_count": null,
   "metadata": {},
   "outputs": [],
   "source": []
  },
  {
   "cell_type": "code",
   "execution_count": null,
   "metadata": {},
   "outputs": [],
   "source": []
  }
 ],
 "metadata": {
  "colab": {
   "collapsed_sections": [],
   "name": "5.1_Tugas_Materi_Fungsi.ipynb",
   "provenance": []
  },
  "kernelspec": {
   "display_name": "Python 3",
   "language": "python",
   "name": "python3"
  },
  "language_info": {
   "codemirror_mode": {
    "name": "ipython",
    "version": 3
   },
   "file_extension": ".py",
   "mimetype": "text/x-python",
   "name": "python",
   "nbconvert_exporter": "python",
   "pygments_lexer": "ipython3",
   "version": "3.8.3"
  }
 },
 "nbformat": 4,
 "nbformat_minor": 1
}
